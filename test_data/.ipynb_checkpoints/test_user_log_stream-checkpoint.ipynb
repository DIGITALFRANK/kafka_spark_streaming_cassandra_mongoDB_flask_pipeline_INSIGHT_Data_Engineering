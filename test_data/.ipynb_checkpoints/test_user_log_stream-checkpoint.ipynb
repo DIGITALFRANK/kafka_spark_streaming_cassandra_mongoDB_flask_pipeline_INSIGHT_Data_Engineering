{
 "cells": [
  {
   "cell_type": "code",
   "execution_count": 10,
   "metadata": {},
   "outputs": [
    {
     "name": "stdout",
     "output_type": "stream",
     "text": [
      "Distance between points is  0.7586058962232046\n",
      "Distance between points is  0.6605779463316066\n",
      "Distance between points is  1.02077374817685\n",
      "Distance between points is  1.0304368440409033\n",
      "Distance between points is  0.818509517377463\n"
     ]
    },
    {
     "data": {
      "image/png": "[encoded data removed]",
      "text/plain": [
       "<Figure size 432x288 with 1 Axes>"
      ]
     },
     "metadata": {
      "needs_background": "light"
     },
     "output_type": "display_data"
    }
   ],
   "source": [
    "# Testing simlation of generating random points \n",
    "from __future__ import division\n",
    "from haversine import haversine\n",
    "import numpy as np\n",
    "import matplotlib.pyplot as plt\n",
    "from mpl_toolkits.axes_grid1 import host_subplot\n",
    "import mpl_toolkits.axisartist as AA\n",
    "\n",
    "def create_random_point(x0,y0,distance):\n",
    "    \"\"\"\n",
    "            Utility method for simulation of the points\n",
    "    \"\"\"   \n",
    "    r = distance/ 111300\n",
    "    u = np.random.uniform(0,1)\n",
    "    v = np.random.uniform(0,1)\n",
    "    w = r * np.sqrt(u)\n",
    "    t = 2 * np.pi * v\n",
    "    x = w * np.cos(t)\n",
    "    x1 = x / np.cos(y0)\n",
    "    y = w * np.sin(t)\n",
    "    return (x0+x1, y0 +y)\n",
    "\n",
    "fig = plt.figure()\n",
    "ax = host_subplot(111, axes_class=AA.Axes)\n",
    "\n",
    "#ax.set_ylim(76,78)\n",
    "#ax.set_xlim(13,13.1)\n",
    "ax.set_autoscale_on(True)\n",
    "\n",
    "latitude1,longitude1 = 13.04738626,77.61946793  \n",
    "ax.plot(latitude1,longitude1,'ro')\n",
    "\n",
    "for i in range(5):\n",
    "    x,y = create_random_point(latitude1,longitude1 ,1000 )\n",
    "    ax.plot(x,y,'bo')\n",
    "    dist = haversine((x,y),(latitude1,longitude1))\n",
    "    print(\"Distance between points is \" ,dist)   # a value approxiamtely less than 500 meters   \n",
    "\n",
    "\n",
    "plt.show()"
   ]
  },
  {
   "cell_type": "code",
   "execution_count": null,
   "metadata": {},
   "outputs": [],
   "source": []
  },
  {
   "cell_type": "code",
   "execution_count": null,
   "metadata": {},
   "outputs": [],
   "source": []
  },
  {
   "cell_type": "code",
   "execution_count": null,
   "metadata": {},
   "outputs": [],
   "source": []
  },
  {
   "cell_type": "code",
   "execution_count": null,
   "metadata": {},
   "outputs": [],
   "source": []
  },
  {
   "cell_type": "code",
   "execution_count": null,
   "metadata": {},
   "outputs": [],
   "source": []
  },
  {
   "cell_type": "code",
   "execution_count": null,
   "metadata": {},
   "outputs": [],
   "source": []
  }
 ],
 "metadata": {
  "kernelspec": {
   "display_name": "Python 3",
   "language": "python",
   "name": "python3"
  },
  "language_info": {
   "codemirror_mode": {
    "name": "ipython",
    "version": 3
   },
   "file_extension": ".py",
   "mimetype": "text/x-python",
   "name": "python",
   "nbconvert_exporter": "python",
   "pygments_lexer": "ipython3",
   "version": "3.7.1"
  }
 },
 "nbformat": 4,
 "nbformat_minor": 2
}
